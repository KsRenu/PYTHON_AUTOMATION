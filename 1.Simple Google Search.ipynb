{
 "cells": [
  {
   "cell_type": "code",
   "execution_count": 14,
   "source": [
    "import selenium \r\n",
    "import time"
   ],
   "outputs": [],
   "metadata": {}
  },
  {
   "cell_type": "code",
   "execution_count": 15,
   "source": [
    "from selenium import webdriver # here we have installed the chrome driver for webdriver"
   ],
   "outputs": [],
   "metadata": {}
  },
  {
   "cell_type": "markdown",
   "source": [
    "# SELENIUM DDOCUMENTATION :\r\n",
    "https://selenium-python.readthedocs.io/"
   ],
   "metadata": {}
  },
  {
   "cell_type": "code",
   "execution_count": 16,
   "source": [
    "browser=webdriver.Chrome(\"C:\\\\Users\\\\Admin\\\\Downloads\\\\chromedriver_win32\\\\chromedriver\") #here we are connecting the driver to this program"
   ],
   "outputs": [],
   "metadata": {}
  },
  {
   "cell_type": "code",
   "execution_count": 17,
   "source": [
    "#get will gets or nagivate  to the location hwerever we want\r\n",
    "browser.get('https://www.google.com/') \r\n",
    "#it helps us to open or navigate to the chrome"
   ],
   "outputs": [],
   "metadata": {}
  },
  {
   "cell_type": "code",
   "execution_count": 20,
   "source": [
    "#now we nwwd to fetch or write in that googel search text box like giving input for it for that\r\n",
    "#right click on the google search text box and select inspect \r\n",
    "#in that dialogue box select the select item symbol at left topmost corner\r\n",
    "#after clicking that select the oogle search text box and it highlights code that is behind the search text box\r\n",
    "#copy that code\r\n",
    "#<input class=\"gLFyf gsfi\" jsaction=\"paste:puy29d;\" maxlength=\"2048\" name=\"q\" type=\"text\" aria-autocomplete=\"both\" aria-haspopup=\"false\" autocapitalize=\"off\" autocomplete=\"off\" autocorrect=\"off\" autofocus=\"\" role=\"combobox\" spellcheck=\"false\" title=\"Search\" value=\"\" aria-label=\"Search\" data-ved=\"0ahUKEwiorN-yuabzAhXYJrkGHdNHAWkQ39UDCAQ\">\r\n"
   ],
   "outputs": [],
   "metadata": {}
  },
  {
   "cell_type": "code",
   "execution_count": 25,
   "source": [
    "#here we going to use find by name method were name's value is already given as a paarameter in the code which we copied from the inspect in google\r\n",
    "search_input=browser.find_element_by_name('q')\r\n",
    "#though we make the search text typable we need to transfer  the data or query to the search text barbutton so that it will seaarch and for that\r\n",
    "search_input.send_keys('hello world')\r\n",
    "#now we need to make the search button worakble for that\r\n",
    "#as its again an element , right click>inspect>select googgle search button>copy highlighted code\r\n"
   ],
   "outputs": [],
   "metadata": {}
  },
  {
   "cell_type": "code",
   "execution_count": 26,
   "source": [
    "#<input class=\"gNO89b\" value=\"Google Search\" aria-label=\"Google Search\" name=\"btnK\" type=\"submit\" data-ved=\"0ahUKEwiorN-yuabzAhXYJrkGHdNHAWkQ4dUDCAs\">\r\n",
    "#here we are selcting by css name\r\n",
    "search_btn=browser.find_elements_by_css_selector('input[type=\"submit\"]') #here we can give as input alone but as here we are having many input fields were specifying it again by using type whose value is in that copied code from inspect\r\n",
    "#now we have fetched the button , to click the button\r\n",
    "search_btn.click()\r\n",
    "#when we run this it shows something like element not clickable that is because every action so far has happened with very short span of time..so we need to increase it ny using time()\r\n"
   ],
   "outputs": [],
   "metadata": {}
  },
  {
   "cell_type": "code",
   "execution_count": 3,
   "source": [
    "\r\n",
    "#when we run this it shows something like element not clickable that is because every action so far has happened with very short span of time..so we need to increase it ny using time()\r\n",
    "#we need to wait for like 2 seconds before going into google and saying helo world and 1 more second after saying hello world to fecth the clickable button\r\n",
    "import time \r\n",
    "#add time.sleep(n) n =no.of.seconds to wait after the google.com and time.sleep(n) after hello world"
   ],
   "outputs": [],
   "metadata": {}
  },
  {
   "cell_type": "code",
   "execution_count": 21,
   "source": [
    "# There are various strategies to locate elements in a page. You can use the most appropriate one for your case. Selenium provides the following methods to locate elements in a page:\r\n",
    "\r\n",
    "# find_element_by_id\r\n",
    "# find_element_by_name\r\n",
    "# find_element_by_xpath\r\n",
    "# find_element_by_link_text\r\n",
    "# find_element_by_partial_link_text\r\n",
    "# find_element_by_tag_name\r\n",
    "# find_element_by_class_name\r\n",
    "# find_element_by_css_selector"
   ],
   "outputs": [],
   "metadata": {}
  },
  {
   "cell_type": "code",
   "execution_count": 9,
   "source": [
    "from selenium import webdriver # here we have installed the chrome driver for webdriver\r\n",
    "browser=webdriver.Chrome(\"C:\\\\Users\\\\Admin\\\\Downloads\\\\chromedriver_win32\\\\chromedriver\") #here we are connecting the driver to this program\r\n",
    "#get will gets or nagivate  to the location hwerever we want \r\n",
    "#it helps us to open or navigate to the chrome\r\n",
    "browser.get('https://www.google.com/')\r\n",
    "#now we nwwd to fetch or write in that googel search text box like giving input for it for that\r\n",
    "\r\n",
    "#right click on the google search text box and select inspect \r\n",
    "#in that dialogue box select the select item symbol at left topmost corner\r\n",
    "#after clicking that select the oogle search text box and it highlights code that is behind the search text box\r\n",
    "#copy that code\r\n",
    "#<input class=\"gLFyf gsfi\" jsaction=\"paste:puy29d;\" maxlength=\"2048\" name=\"q\" type=\"text\" aria-autocomplete=\"both\" aria-haspopup=\"false\" autocapitalize=\"off\" autocomplete=\"off\" autocorrect=\"off\" autofocus=\"\" role=\"combobox\" spellcheck=\"false\" title=\"Search\" value=\"\" aria-label=\"Search\" data-ved=\"0ahUKEwiorN-yuabzAhXYJrkGHdNHAWkQ39UDCAQ\">\r\n",
    "#here we going to use find by name method were name's value is already given as a paarameter in the code which we copied from the inspect in google\r\n",
    "search_input=browser.find_element_by_name('q')\r\n",
    "#though we make the search text typable we need to transfer  the data or query to the search text barbutton so that it will seaarch and for that\r\n",
    "search_input.send_keys('hello world')\r\n",
    "#now we need to make the search button worakble for that\r\n",
    "#as its again an element , right click>inspect>select googgle search button>copy highlighted code\r\n",
    "#<input class=\"gNO89b\" value=\"Google Search\" aria-label=\"Google Search\" name=\"btnK\" type=\"submit\" data-ved=\"0ahUKEwiorN-yuabzAhXYJrkGHdNHAWkQ4dUDCAs\">\r\n",
    "#here we are selcting by css name\r\n",
    "search_btn=browser.find_elements_by_css_selector('input[type=\"submit\"]') #here we can give as input alone but as here we are having many input fields were specifying it again by using type whose value is in that copied code from inspect\r\n",
    "#now we have fetched the button , to click the button\r\n",
    "search_btn.click()\r\n",
    "#when we run this it shows something like element not clickable that is because every action so far has happened with very short span of time..so we need to increase it ny using time()\r\n",
    "#we need to wait for like 2 seconds before going into google and saying helo world and 1 more second after saying hello world to fecth the clickable button\r\n"
   ],
   "outputs": [],
   "metadata": {}
  },
  {
   "cell_type": "code",
   "execution_count": 10,
   "source": [
    "from selenium import webdriver \r\n",
    "browser=webdriver.Chrome(\"C:\\\\Users\\\\Admin\\\\Downloads\\\\chromedriver_win32\\\\chromedriver\") \r\n",
    "browser.get('https://www.google.com/')\r\n",
    "time.sleep(3)\r\n",
    "search_input=browser.find_element_by_name('q')\r\n",
    "search_input.send_keys('hello world')\r\n",
    "time.sleep(2)\r\n",
    "search_btn=browser.find_elements_by_css_selector('input[type =\"submit\"]') \r\n",
    "search_btn.click()"
   ],
   "outputs": [],
   "metadata": {}
  }
 ],
 "metadata": {
  "orig_nbformat": 4,
  "kernelspec": {
   "name": "python3",
   "display_name": "Python 3 (ipykernel)",
   "language": "python"
  },
  "language_info": {
   "name": "python",
   "version": "3.8.11",
   "mimetype": "text/x-python",
   "codemirror_mode": {
    "name": "ipython",
    "version": 3
   },
   "pygments_lexer": "ipython3",
   "nbconvert_exporter": "python",
   "file_extension": ".py"
  }
 },
 "nbformat": 4,
 "nbformat_minor": 2
}